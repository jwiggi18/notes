{
 "cells": [
  {
   "cell_type": "markdown",
   "metadata": {},
   "source": [
    "# Python Data Structures"
   ]
  },
  {
   "cell_type": "markdown",
   "metadata": {},
   "source": [
    "## Append"
   ]
  },
  {
   "cell_type": "code",
   "execution_count": null,
   "metadata": {},
   "outputs": [],
   "source": [
    "# 'append' to add an element to the end of a list\n",
    "#list_name.append(element)\n",
    "fruits = ['apple', 'banana', 'cherry']\n",
    "fruits.append('orange')\n",
    "print(fruits)"
   ]
  },
  {
   "cell_type": "markdown",
   "metadata": {},
   "source": [
    "## copy The `copy()` method is used to create a shallow copy of a list."
   ]
  },
  {
   "cell_type": "code",
   "execution_count": null,
   "metadata": {},
   "outputs": [],
   "source": [
    "my_list = [1, 2, 3, 4, 5]\n",
    "new_list = my_list.copy()\n",
    "print(new_list)"
   ]
  },
  {
   "cell_type": "markdown",
   "metadata": {},
   "source": [
    "## Count The `count()` method is used to count the number of occurrences of a specific element in a list in Python."
   ]
  },
  {
   "cell_type": "code",
   "execution_count": null,
   "metadata": {},
   "outputs": [],
   "source": [
    "my_list = [1, 2, 2, 3, 4, 2, 5, 2]\n",
    "count = my_list.count(2)\n",
    "print(count)\n",
    "#output: 4"
   ]
  },
  {
   "cell_type": "markdown",
   "metadata": {},
   "source": [
    "## Creating a list  A list is a built-in data type that represents an ordered and mutable collection of elements. Lists are enclosed in square brackets [] and elements are separated by commas."
   ]
  },
  {
   "cell_type": "code",
   "execution_count": null,
   "metadata": {},
   "outputs": [],
   "source": [
    "fruits = ['apple', 'banana', 'cherry', 'mango']"
   ]
  },
  {
   "cell_type": "markdown",
   "metadata": {},
   "source": [
    "del \tThe `del` statement is used to remove an element from list. `del` statement removes the element at the specified index."
   ]
  },
  {
   "cell_type": "code",
   "execution_count": null,
   "metadata": {},
   "outputs": [],
   "source": [
    "my_list = [10, 20, 30, 40, 50] \n",
    "del my_list[2] # Removes the element at index 2 print(my_list) \n",
    "# Output: [10, 20, 40, 50]"
   ]
  },
  {
   "cell_type": "markdown",
   "metadata": {},
   "source": [
    "## extend   The `extend()` method is used to add multiple elements to a list. It takes an iterable (such as another list, tuple, or string) and appends each element of the iterable to the original list.\n",
    "\n",
    "### list_name.extend(iterable) "
   ]
  },
  {
   "cell_type": "code",
   "execution_count": null,
   "metadata": {},
   "outputs": [],
   "source": [
    "fruits = [\"apple\", \"banana\", \"orange\"] \n",
    "more_fruits = [\"mango\", \"grape\"] \n",
    "fruits.extend(more_fruits) \n",
    "print(fruits)\n",
    "#output: ['apple', 'banana', 'orange', 'mango', 'grape']"
   ]
  },
  {
   "cell_type": "markdown",
   "metadata": {},
   "source": [
    "## Indexing in a list allows you to access individual elements by their position. In Python, indexing starts from 0 for the first element and goes up to `length_of_list - 1`."
   ]
  },
  {
   "cell_type": "code",
   "execution_count": null,
   "metadata": {},
   "outputs": [],
   "source": [
    "my_list = [10, 20, 30, 40, 50] \n",
    "print(my_list[0]) \n",
    "# Output: 10 (accessing the first element) \n",
    "print(my_list[-1]) \n",
    "# Output: 50 (accessing the last element using negative indexing)"
   ]
  },
  {
   "cell_type": "markdown",
   "metadata": {},
   "source": [
    "## The `insert()` method is used to insert an element.\n",
    "\n",
    "### list_name.insert(index, element) - i.e. 'insert -element- after -index-'"
   ]
  },
  {
   "cell_type": "code",
   "execution_count": null,
   "metadata": {},
   "outputs": [],
   "source": [
    "my_list = [1, 2, 3, 4, 5] \n",
    "my_list.insert(2, 6) \n",
    "print(my_list)\n",
    "#output: [1, 2, 6, 3, 4, 5]"
   ]
  },
  {
   "cell_type": "markdown",
   "metadata": {},
   "source": [
    "## Modifying a list  You can use indexing to modify or assign new values to specific elements in the list."
   ]
  },
  {
   "cell_type": "code",
   "execution_count": null,
   "metadata": {},
   "outputs": [],
   "source": [
    "my_list = [10, 20, 30, 40, 50] \n",
    "my_list[1] = 25 # Modifying the second element \n",
    "print(my_list) \n",
    "# Output: [10, 25, 30, 40, 50]"
   ]
  },
  {
   "cell_type": "markdown",
   "metadata": {},
   "source": [
    "`pop()` method is another way to remove an element from a list in Python. It removes and returns the element at the specified index. If you don't provide an index to the `pop()` method, it will remove and return the last element of the list by default"
   ]
  },
  {
   "cell_type": "code",
   "execution_count": null,
   "metadata": {},
   "outputs": [],
   "source": [
    "#Example 1:\n",
    "my_list = [10, 20, 30, 40, 50] \n",
    "removed_element = my_list.pop(2) # Removes and returns the element at index 2 \n",
    "print(removed_element) \n",
    "# Output: 30 \n",
    "\n",
    "print(my_list) \n",
    "# Output: [10, 20, 40, 50] \n",
    "\n",
    "#Example 2:\n",
    "my_list = [10, 20, 30, 40, 50] \n",
    "removed_element = my_list.pop() # Removes and returns the last element \n",
    "print(removed_element) \n",
    "# Output: 50 \n",
    "\n",
    "print(my_list) \n",
    "# Output: [10, 20, 30, 40]"
   ]
  },
  {
   "cell_type": "markdown",
   "metadata": {},
   "source": [
    "## remove() To remove an element from a list. The `remove()` method removes the first occurrence of the specified value."
   ]
  },
  {
   "cell_type": "code",
   "execution_count": null,
   "metadata": {},
   "outputs": [],
   "source": [
    "my_list = [10, 20, 30, 40, 50] \n",
    "my_list.remove(30) # Removes the element 30 \n",
    "print(my_list) \n",
    "# Output: [10, 20, 40, 50]"
   ]
  },
  {
   "cell_type": "markdown",
   "metadata": {},
   "source": [
    "## The `reverse()` method is used to reverse the order of elements in a list"
   ]
  },
  {
   "cell_type": "code",
   "execution_count": null,
   "metadata": {},
   "outputs": [],
   "source": [
    "my_list = [1, 2, 3, 4, 5] \n",
    "my_list.reverse() print(my_list) \n",
    "# Output: [5, 4, 3, 2, 1]"
   ]
  },
  {
   "cell_type": "markdown",
   "metadata": {},
   "source": [
    "## Slicing  You can use slicing to access a range of elements from a list.\n",
    "\n",
    "### list_name[start:end:step]"
   ]
  },
  {
   "cell_type": "code",
   "execution_count": null,
   "metadata": {},
   "outputs": [],
   "source": [
    "my_list = [1, 2, 3, 4, 5] \n",
    "print(my_list[1:4]) \n",
    "# Output: [2, 3, 4] (elements from index 1 to 3)\n",
    "\n",
    "print(my_list[:3]) \n",
    "# Output: [1, 2, 3] (elements from the beginning up to index 2) \n",
    "\n",
    "print(my_list[2:]) \n",
    "# Output: [3, 4, 5] (elements from index 2 to the end) \n",
    "\n",
    "print(my_list[::2]) \n",
    "# Output: [1, 3, 5] (every second element)"
   ]
  },
  {
   "cell_type": "markdown",
   "metadata": {},
   "source": [
    "## sort() The `sort()` method is used to sort the elements of a list in ascending order. If you want to sort the list in descending order, you can pass the `reverse=True` argument to the `sort()` method."
   ]
  },
  {
   "cell_type": "code",
   "execution_count": null,
   "metadata": {},
   "outputs": [],
   "source": [
    "#Example 1:\n",
    "my_list = [5, 2, 8, 1, 9] \n",
    "my_list.sort() \n",
    "print(my_list) \n",
    "# Output: [1, 2, 5, 8, 9] \n",
    "\n",
    "#Example 2:\n",
    "my_list = [5, 2, 8, 1, 9] \n",
    "my_list.sort(reverse=True) \n",
    "print(my_list) \n",
    "# Output: [9, 8, 5, 2, 1]"
   ]
  },
  {
   "cell_type": "markdown",
   "metadata": {},
   "source": [
    "# Dictionary\n",
    "\n",
    "## Accessing Values You can access the values in a dictionary using their corresponding `keys`.\n",
    "\n",
    "### Value = dict_name[\"key_name\"]"
   ]
  },
  {
   "cell_type": "code",
   "execution_count": null,
   "metadata": {},
   "outputs": [],
   "source": [
    "name = person[\"name\"] \n",
    "age = person[\"age\"]"
   ]
  },
  {
   "cell_type": "code",
   "execution_count": 1,
   "metadata": {},
   "outputs": [
    {
     "data": {
      "text/plain": [
       "(4, 4, 4)"
      ]
     },
     "execution_count": 1,
     "metadata": {},
     "output_type": "execute_result"
    }
   ],
   "source": [
    "Dict={\"A\":1,\"B\":\"2\",\"C\":[3,3,3],\"D\":(4,4,4),'E':5,'F':6}\n",
    "Dict[\"D\"]"
   ]
  },
  {
   "cell_type": "code",
   "execution_count": null,
   "metadata": {},
   "outputs": [],
   "source": [
    "L = ['c','d']\n",
    "print(L)"
   ]
  }
 ],
 "metadata": {
  "kernelspec": {
   "display_name": "Python 3",
   "language": "python",
   "name": "python3"
  },
  "language_info": {
   "codemirror_mode": {
    "name": "ipython",
    "version": 3
   },
   "file_extension": ".py",
   "mimetype": "text/x-python",
   "name": "python",
   "nbconvert_exporter": "python",
   "pygments_lexer": "ipython3",
   "version": "3.9.6"
  }
 },
 "nbformat": 4,
 "nbformat_minor": 2
}
