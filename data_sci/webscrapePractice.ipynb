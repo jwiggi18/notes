{
 "cells": [
  {
   "cell_type": "markdown",
   "metadata": {},
   "source": [
    "# Practice Project: GDP Data extraction and processing"
   ]
  },
  {
   "cell_type": "markdown",
   "metadata": {},
   "source": [
    "Goal: create a script to extract the list of the top 10 largest economies of the world in descending order of the GDPs in Billion USD (round to 2 decimals) as logged by the International Monetary Fund (IMF).\n",
    "- Use webscrapting to extract required info from the website\n",
    "- Use pandas to load and process the tabular data as a dataframe\n",
    "- Use numpy to manipulate dataframe info\n",
    "- Load the updated df to a CSV file"
   ]
  },
  {
   "cell_type": "markdown",
   "metadata": {},
   "source": [
    "[Data URL](https://web.archive.org/web/20230902185326/https://en.wikipedia.org/wiki/List_of_countries_by_GDP_%28nominal%29)"
   ]
  },
  {
   "cell_type": "markdown",
   "metadata": {},
   "source": [
    "Import libraries"
   ]
  },
  {
   "cell_type": "code",
   "execution_count": 3,
   "metadata": {},
   "outputs": [],
   "source": [
    "import pandas as pd\n",
    "import numpy as np"
   ]
  },
  {
   "cell_type": "code",
   "execution_count": null,
   "metadata": {},
   "outputs": [],
   "source": [
    "\"\"\"exercise suggested supressing warnings with the following code\n",
    "\n",
    "def warn(*args, **kwargs):\n",
    "    pass\n",
    "import warnings\n",
    "warnings.warn = warn\n",
    "warnings.filterwarnings('ignore')\"\"\"\n"
   ]
  },
  {
   "cell_type": "code",
   "execution_count": 12,
   "metadata": {},
   "outputs": [],
   "source": [
    "#save the website URL in a variable\n",
    "url='https://web.archive.org/web/20230902185326/https://en.wikipedia.org/wiki/List_of_countries_by_GDP_%28nominal%29'"
   ]
  },
  {
   "cell_type": "markdown",
   "metadata": {},
   "source": [
    "Pull the third table from the website.\n",
    "Will only need the first 3 (maybe four because of table structure) cols"
   ]
  },
  {
   "cell_type": "code",
   "execution_count": 13,
   "metadata": {},
   "outputs": [],
   "source": [
    "#extract the tables from the website\n",
    "dfs = pd.read_html(url)\n",
    "\n",
    "\n"
   ]
  },
  {
   "cell_type": "code",
   "execution_count": 15,
   "metadata": {},
   "outputs": [
    {
     "name": "stdout",
     "output_type": "stream",
     "text": [
      "  Country/Territory UN region IMF[1][13]            World Bank[14]             \\\n",
      "  Country/Territory UN region   Estimate       Year       Estimate       Year   \n",
      "0             World         —  105568776       2023      100562011       2022   \n",
      "1     United States  Americas   26854599       2023       25462700       2022   \n",
      "2             China      Asia   19373586  [n 1]2023       17963171  [n 3]2022   \n",
      "3             Japan      Asia    4409738       2023        4231141       2022   \n",
      "4           Germany    Europe    4308854       2023        4072192       2022   \n",
      "\n",
      "  United Nations[15]             \n",
      "            Estimate       Year  \n",
      "0           96698005       2021  \n",
      "1           23315081       2021  \n",
      "2           17734131  [n 1]2021  \n",
      "3            4940878       2021  \n",
      "4            4259935       2021  \n"
     ]
    }
   ],
   "source": [
    "\n",
    "#this pulled the second table?? wtf?\n",
    "#df = dfs[2]\n",
    "\n",
    "#get the third table\n",
    "df = dfs[3]\n",
    "\n",
    "#view the first 5 rows of the table\n",
    "print(df.head())"
   ]
  },
  {
   "cell_type": "code",
   "execution_count": 23,
   "metadata": {},
   "outputs": [
    {
     "name": "stdout",
     "output_type": "stream",
     "text": [
      "  Country/Territory IMF[1][13]\n",
      "  Country/Territory   Estimate\n",
      "0             World  105568776\n",
      "1     United States   26854599\n",
      "2             China   19373586\n",
      "3             Japan    4409738\n",
      "4           Germany    4308854\n"
     ]
    }
   ],
   "source": [
    "# extract the first and third columns\n",
    "imf_df = df.iloc[:, [0, 2]]\n",
    "\n",
    "#view the first 5 rows of the new dataframe\n",
    "print(imf_df.head())"
   ]
  },
  {
   "cell_type": "code",
   "execution_count": 24,
   "metadata": {},
   "outputs": [],
   "source": [
    "#change column names\n",
    "imf_df.columns = ['Country', 'IMF GDP Millions']\n"
   ]
  },
  {
   "cell_type": "code",
   "execution_count": 25,
   "metadata": {},
   "outputs": [
    {
     "name": "stdout",
     "output_type": "stream",
     "text": [
      "           Country IMF GDP Millions\n",
      "1    United States         26854599\n",
      "2            China         19373586\n",
      "3            Japan          4409738\n",
      "4          Germany          4308854\n",
      "5            India          3736882\n",
      "6   United Kingdom          3158938\n",
      "7           France          2923489\n",
      "8            Italy          2169745\n",
      "9           Canada          2089672\n",
      "10          Brazil          2081235\n"
     ]
    }
   ],
   "source": [
    "#retain the first 10 rows of country data excluding 'world' data (1st row)\n",
    "imf_df = imf_df.iloc[1:11]\n",
    "\n",
    "#view the new dataframe\n",
    "print(imf_df)"
   ]
  },
  {
   "cell_type": "code",
   "execution_count": 28,
   "metadata": {},
   "outputs": [
    {
     "name": "stdout",
     "output_type": "stream",
     "text": [
      "Country             object\n",
      "IMF GDP Millions    object\n",
      "dtype: object\n"
     ]
    }
   ],
   "source": [
    "#what type of data is in IMP GDP Millions column?\n",
    "print(imf_df.dtypes)"
   ]
  },
  {
   "cell_type": "code",
   "execution_count": 29,
   "metadata": {},
   "outputs": [],
   "source": [
    "# convert data in 'IMF GDP Millions' column to integer\n",
    "imf_df['IMF GDP Millions'] = imf_df['IMF GDP Millions'].astype(int)\n"
   ]
  },
  {
   "cell_type": "code",
   "execution_count": 30,
   "metadata": {},
   "outputs": [],
   "source": [
    "#convert currency to billions (divide GDP Millions by 1,000)\n",
    "imf_df['IMF GDP Billions'] = imf_df['IMF GDP Millions']/1000\n",
    "\n"
   ]
  },
  {
   "cell_type": "code",
   "execution_count": 31,
   "metadata": {},
   "outputs": [
    {
     "name": "stdout",
     "output_type": "stream",
     "text": [
      "           Country  IMF GDP Millions  IMF GDP Billions\n",
      "1    United States          26854599         26854.599\n",
      "2            China          19373586         19373.586\n",
      "3            Japan           4409738          4409.738\n",
      "4          Germany           4308854          4308.854\n",
      "5            India           3736882          3736.882\n",
      "6   United Kingdom           3158938          3158.938\n",
      "7           France           2923489          2923.489\n",
      "8            Italy           2169745          2169.745\n",
      "9           Canada           2089672          2089.672\n",
      "10          Brazil           2081235          2081.235\n"
     ]
    }
   ],
   "source": [
    "print(imf_df)"
   ]
  },
  {
   "cell_type": "code",
   "execution_count": 32,
   "metadata": {},
   "outputs": [
    {
     "name": "stdout",
     "output_type": "stream",
     "text": [
      "           Country  IMF GDP Billions\n",
      "1    United States         26854.599\n",
      "2            China         19373.586\n",
      "3            Japan          4409.738\n",
      "4          Germany          4308.854\n",
      "5            India          3736.882\n",
      "6   United Kingdom          3158.938\n",
      "7           France          2923.489\n",
      "8            Italy          2169.745\n",
      "9           Canada          2089.672\n",
      "10          Brazil          2081.235\n"
     ]
    }
   ],
   "source": [
    "#remove the 'IMF GDP Millions' column\n",
    "imf_billions_df = imf_df[['Country', 'IMF GDP Billions']]\n",
    "\n",
    "print(imf_billions_df)"
   ]
  },
  {
   "cell_type": "markdown",
   "metadata": {},
   "source": [
    "Note: Billions still not rounded to 2 decimals"
   ]
  },
  {
   "cell_type": "code",
   "execution_count": 33,
   "metadata": {},
   "outputs": [],
   "source": [
    "# save df as a csv file\n",
    "imf_billions_df.to_csv('imf_gdp.csv', index=False)"
   ]
  },
  {
   "cell_type": "markdown",
   "metadata": {},
   "source": [
    "Make it a function"
   ]
  },
  {
   "cell_type": "code",
   "execution_count": 19,
   "metadata": {},
   "outputs": [],
   "source": [
    "\n",
    "#need to update with changes to the code above\n",
    "\n",
    "#url is the website URL with the data of interest\n",
    "#tbl is the table number that contains the data of interest\n",
    "\n",
    "def imf_gdp(url, tbl):\n",
    "    url = url\n",
    "    dfs = pd.read_html(url)\n",
    "    df = dfs[tbl]\n",
    "    imf_df = df.iloc[:, [0, 2]]\n",
    "    imf_df.columns = ['Country', 'GDP (IMF)']\n",
    "    imf_df.to_csv('imf_gdp.csv', index=False)\n",
    "    print('your file has been saved as imf_gdp.csv in the current directory')\n",
    "    \n",
    "    "
   ]
  }
 ],
 "metadata": {
  "kernelspec": {
   "display_name": "Python 3",
   "language": "python",
   "name": "python3"
  },
  "language_info": {
   "codemirror_mode": {
    "name": "ipython",
    "version": 3
   },
   "file_extension": ".py",
   "mimetype": "text/x-python",
   "name": "python",
   "nbconvert_exporter": "python",
   "pygments_lexer": "ipython3",
   "version": "3.12.3"
  }
 },
 "nbformat": 4,
 "nbformat_minor": 2
}
